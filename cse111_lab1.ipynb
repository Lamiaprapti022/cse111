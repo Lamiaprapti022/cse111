{
  "nbformat": 4,
  "nbformat_minor": 0,
  "metadata": {
    "colab": {
      "provenance": []
    },
    "kernelspec": {
      "name": "python3",
      "display_name": "Python 3"
    },
    "language_info": {
      "name": "python"
    }
  },
  "cells": [
    {
      "cell_type": "code",
      "source": [
        "#1\n",
        "input_string = input(\"Enter a string: \")\n",
        "uppercase_count = 0\n",
        "lowercase_count = 0\n",
        "for char in input_string:\n",
        "    if 'A' <= char <= 'Z':\n",
        "        uppercase_count += 1\n",
        "    elif 'a' <= char <= 'z':\n",
        "        lowercase_count += 1\n",
        "if uppercase_count > lowercase_count:\n",
        "    for char in input_string:\n",
        "        if 'a' <= char <= 'z':\n",
        "            uppercase_char = chr(ord(char) - 32)\n",
        "            print(uppercase_char, end='')\n",
        "        else:\n",
        "            print(char, end='')\n",
        "else:\n",
        "  lowercase_count>= uppercase_count\n",
        "  for char in input_string:\n",
        "        if 'A' <= char <= 'Z':\n",
        "            lowercase_char = chr(ord(char) + 32)\n",
        "            print(lowercase_char, end='')\n",
        "        else:\n",
        "            print(char, end='')\n",
        "print()\n"
      ],
      "metadata": {
        "colab": {
          "base_uri": "https://localhost:8080/"
        },
        "id": "8jpTn3uKPhFP",
        "outputId": "1e1690be-751c-42b0-a24a-6e2bd970858d"
      },
      "execution_count": null,
      "outputs": [
        {
          "output_type": "stream",
          "name": "stdout",
          "text": [
            "Enter a string: ApplE\n",
            "apple\n"
          ]
        }
      ]
    },
    {
      "cell_type": "code",
      "source": [
        "#2\n",
        "user = input(\"Enter a string: \")\n",
        "num = 0\n",
        "mix = 0\n",
        "word = 0\n",
        "for i in user:\n",
        "  if \"A\"<= i<=\"Z\" or \"a\"<=i<=\"z\":\n",
        "    word += 1\n",
        "  elif \"0\"<= i <=\"9\":\n",
        "    num += 1\n",
        "  else:\n",
        "    mix += 1\n",
        "\n",
        "if len(user) == num:\n",
        "  print(\"NUMBER\")\n",
        "elif len(user) == word:\n",
        "  print(\"WORD\")\n",
        "else:\n",
        "  print(\"MIXED\")\n",
        "\n",
        "\n",
        "\n"
      ],
      "metadata": {
        "id": "cSIHXwYPPm9J",
        "colab": {
          "base_uri": "https://localhost:8080/"
        },
        "outputId": "1ff3d2d9-0f25-4d58-9c7b-5736d77af984"
      },
      "execution_count": null,
      "outputs": [
        {
          "output_type": "stream",
          "name": "stdout",
          "text": [
            "Enter a string: jhg231j213\n",
            "MIXED\n"
          ]
        }
      ]
    },
    {
      "cell_type": "code",
      "source": [
        "#3\n",
        "user = input(\"Enter String: \")\n",
        "capital_letters= \" ABCDEFGHIJKLMNOPQRSTUVWXYZ\"\n",
        "first_capital=0\n",
        "second_capital=0\n",
        "str_len = len(user)\n",
        "\n",
        "for x in range(len(user)):\n",
        "    letter= user[x]\n",
        "    if letter in capital_letters:\n",
        "        first_capital= x\n",
        "        new_str= user[x:str_len]\n",
        "\n",
        "        break\n",
        "\n",
        "for y in range(first_capital+1,len(new_str)):\n",
        "    letter2 = new_str[y]\n",
        "    if letter2 in capital_letters:\n",
        "        second_capital= x+y\n",
        "        break\n",
        "\n",
        "if second_capital==0:\n",
        "    print(\"BLANK\")\n",
        "else:\n",
        "    string = user[first_capital+1:second_capital]\n",
        "    print(string)\n"
      ],
      "metadata": {
        "colab": {
          "base_uri": "https://localhost:8080/"
        },
        "id": "v-2_k7Z8ZwOU",
        "outputId": "94e7621a-1063-4239-8d0f-5ec95a44ac70"
      },
      "execution_count": null,
      "outputs": [
        {
          "output_type": "stream",
          "name": "stdout",
          "text": [
            "Enter String: coDIng\n",
            "BLANK\n"
          ]
        }
      ]
    },
    {
      "cell_type": "code",
      "source": [
        "#4\n",
        "string1= input()\n",
        "string2=input()\n",
        "new1=\"\"\n",
        "new2=\"\"\n",
        "for i in string1:\n",
        "  if i in string2:\n",
        "    new1+=i\n",
        "for j in string2:\n",
        "  if j in string1:\n",
        "    new2+=1\n",
        "for k in\n"
      ],
      "metadata": {
        "id": "FqIya7tij_Sy"
      },
      "execution_count": null,
      "outputs": []
    },
    {
      "cell_type": "code",
      "source": [
        "#5\n",
        "\n",
        "password = input(\"Enter your password: \")\n",
        "\n",
        "has_lowercase = True\n",
        "has_uppercase = True\n",
        "has_digit = True\n",
        "has_special = True\n",
        "\n",
        "special_characters = {'_', ',', '$', '#', '@'}\n",
        "for char in password:\n",
        "    if 'a' <= char <= 'z':\n",
        "        has_lowercase = True\n",
        "    elif 'A' <= char <= 'Z':\n",
        "        has_uppercase = True\n",
        "    elif '0' <= char <= '9':\n",
        "        has_digit = True\n",
        "    elif char in special_characters:\n",
        "        has_special = True\n",
        "if not has_lowercase:\n",
        "    print(\"Lowercase Missing\")\n",
        "if not has_uppercase:\n",
        "    print(\"Uppercase Missing\")\n",
        "if not has_digit:\n",
        "    print(\"Digit Missing\")\n",
        "if not has_special:\n",
        "    print(\"Special Missing\")\n",
        "\n",
        "if has_lowercase and has_uppercase and has_digit and has_special:\n",
        "    print(\"OK\")\n",
        "\n"
      ],
      "metadata": {
        "id": "PFHDYvCMnNPJ"
      },
      "execution_count": null,
      "outputs": []
    },
    {
      "cell_type": "code",
      "source": [
        "#list 1\n",
        "lst=[]\n",
        "for i in range(999999999999):\n",
        "  num=input()\n",
        "  if num==\"Stop\":\n",
        "    break\n",
        "  else:\n",
        "     lst.append(num)\n",
        "lst2=[]\n",
        "for j in range(len(lst2)):\n",
        "  val=list[i]\n",
        "  if val in lst2:\n",
        "    continue\n",
        "  else:\n",
        "     lst2.append(val)\n",
        "lst_2_len=len(lst2)\n",
        "for x in range(lst_2_len):\n",
        "  val2=0\n",
        "  for y in lst2:\n",
        "    if lst2[x]==lst_2_len:\n",
        "      220\n",
        "      val2+=1\n",
        "  else:\n",
        "    continue\n",
        "\n",
        "print(lst2[x],val2)\n"
      ],
      "metadata": {
        "colab": {
          "base_uri": "https://localhost:8080/",
          "height": 460
        },
        "id": "b0sLhKSpTaOt",
        "outputId": "e24516d9-8e5c-4ee9-9194-17c278c942e6"
      },
      "execution_count": null,
      "outputs": [
        {
          "name": "stdout",
          "output_type": "stream",
          "text": [
            "10\n",
            "0\n",
            "20\n",
            "20\n"
          ]
        },
        {
          "output_type": "error",
          "ename": "KeyboardInterrupt",
          "evalue": "ignored",
          "traceback": [
            "\u001b[0;31m---------------------------------------------------------------------------\u001b[0m",
            "\u001b[0;31mKeyboardInterrupt\u001b[0m                         Traceback (most recent call last)",
            "\u001b[0;32m<ipython-input-18-71e87592c991>\u001b[0m in \u001b[0;36m<cell line: 3>\u001b[0;34m()\u001b[0m\n\u001b[1;32m      2\u001b[0m \u001b[0mlst\u001b[0m\u001b[0;34m=\u001b[0m\u001b[0;34m[\u001b[0m\u001b[0;34m]\u001b[0m\u001b[0;34m\u001b[0m\u001b[0;34m\u001b[0m\u001b[0m\n\u001b[1;32m      3\u001b[0m \u001b[0;32mfor\u001b[0m \u001b[0mi\u001b[0m \u001b[0;32min\u001b[0m \u001b[0mrange\u001b[0m\u001b[0;34m(\u001b[0m\u001b[0;36m999999999999\u001b[0m\u001b[0;34m)\u001b[0m\u001b[0;34m:\u001b[0m\u001b[0;34m\u001b[0m\u001b[0;34m\u001b[0m\u001b[0m\n\u001b[0;32m----> 4\u001b[0;31m   \u001b[0mnum\u001b[0m\u001b[0;34m=\u001b[0m\u001b[0minput\u001b[0m\u001b[0;34m(\u001b[0m\u001b[0;34m)\u001b[0m\u001b[0;34m\u001b[0m\u001b[0;34m\u001b[0m\u001b[0m\n\u001b[0m\u001b[1;32m      5\u001b[0m   \u001b[0;32mif\u001b[0m \u001b[0mnum\u001b[0m\u001b[0;34m==\u001b[0m\u001b[0;34m\"Stop\"\u001b[0m\u001b[0;34m:\u001b[0m\u001b[0;34m\u001b[0m\u001b[0;34m\u001b[0m\u001b[0m\n\u001b[1;32m      6\u001b[0m     \u001b[0;32mbreak\u001b[0m\u001b[0;34m\u001b[0m\u001b[0;34m\u001b[0m\u001b[0m\n",
            "\u001b[0;32m/usr/local/lib/python3.10/dist-packages/ipykernel/kernelbase.py\u001b[0m in \u001b[0;36mraw_input\u001b[0;34m(self, prompt)\u001b[0m\n\u001b[1;32m    849\u001b[0m                 \u001b[0;34m\"raw_input was called, but this frontend does not support input requests.\"\u001b[0m\u001b[0;34m\u001b[0m\u001b[0;34m\u001b[0m\u001b[0m\n\u001b[1;32m    850\u001b[0m             )\n\u001b[0;32m--> 851\u001b[0;31m         return self._input_request(str(prompt),\n\u001b[0m\u001b[1;32m    852\u001b[0m             \u001b[0mself\u001b[0m\u001b[0;34m.\u001b[0m\u001b[0m_parent_ident\u001b[0m\u001b[0;34m,\u001b[0m\u001b[0;34m\u001b[0m\u001b[0;34m\u001b[0m\u001b[0m\n\u001b[1;32m    853\u001b[0m             \u001b[0mself\u001b[0m\u001b[0;34m.\u001b[0m\u001b[0m_parent_header\u001b[0m\u001b[0;34m,\u001b[0m\u001b[0;34m\u001b[0m\u001b[0;34m\u001b[0m\u001b[0m\n",
            "\u001b[0;32m/usr/local/lib/python3.10/dist-packages/ipykernel/kernelbase.py\u001b[0m in \u001b[0;36m_input_request\u001b[0;34m(self, prompt, ident, parent, password)\u001b[0m\n\u001b[1;32m    893\u001b[0m             \u001b[0;32mexcept\u001b[0m \u001b[0mKeyboardInterrupt\u001b[0m\u001b[0;34m:\u001b[0m\u001b[0;34m\u001b[0m\u001b[0;34m\u001b[0m\u001b[0m\n\u001b[1;32m    894\u001b[0m                 \u001b[0;31m# re-raise KeyboardInterrupt, to truncate traceback\u001b[0m\u001b[0;34m\u001b[0m\u001b[0;34m\u001b[0m\u001b[0m\n\u001b[0;32m--> 895\u001b[0;31m                 \u001b[0;32mraise\u001b[0m \u001b[0mKeyboardInterrupt\u001b[0m\u001b[0;34m(\u001b[0m\u001b[0;34m\"Interrupted by user\"\u001b[0m\u001b[0;34m)\u001b[0m \u001b[0;32mfrom\u001b[0m \u001b[0;32mNone\u001b[0m\u001b[0;34m\u001b[0m\u001b[0;34m\u001b[0m\u001b[0m\n\u001b[0m\u001b[1;32m    896\u001b[0m             \u001b[0;32mexcept\u001b[0m \u001b[0mException\u001b[0m \u001b[0;32mas\u001b[0m \u001b[0me\u001b[0m\u001b[0;34m:\u001b[0m\u001b[0;34m\u001b[0m\u001b[0;34m\u001b[0m\u001b[0m\n\u001b[1;32m    897\u001b[0m                 \u001b[0mself\u001b[0m\u001b[0;34m.\u001b[0m\u001b[0mlog\u001b[0m\u001b[0;34m.\u001b[0m\u001b[0mwarning\u001b[0m\u001b[0;34m(\u001b[0m\u001b[0;34m\"Invalid Message:\"\u001b[0m\u001b[0;34m,\u001b[0m \u001b[0mexc_info\u001b[0m\u001b[0;34m=\u001b[0m\u001b[0;32mTrue\u001b[0m\u001b[0;34m)\u001b[0m\u001b[0;34m\u001b[0m\u001b[0;34m\u001b[0m\u001b[0m\n",
            "\u001b[0;31mKeyboardInterrupt\u001b[0m: Interrupted by user"
          ]
        }
      ]
    }
  ]
}